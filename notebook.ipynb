{
 "cells": [
  {
   "cell_type": "markdown",
   "metadata": {},
   "source": [
    "# This notebook is to design the process before packaging it."
   ]
  },
  {
   "cell_type": "markdown",
   "metadata": {},
   "source": [
    "### Setting the environment "
   ]
  },
  {
   "cell_type": "code",
   "execution_count": 1,
   "metadata": {},
   "outputs": [],
   "source": [
    "#Import packages\n",
    "import os\n",
    "import requests\n",
    "from dotenv import load_dotenv\n",
    "from utils import get_repos\n",
    "load_dotenv()\n",
    "\n",
    "#Load environment variables\n",
    "#set the api link\n",
    "GITHUB_URL = os.getenv('GITHUB_URL')\n",
    "#set your github account info \n",
    "GITHUB_USER = os.getenv('GITHUB_USER')\n",
    "GITHUB_TOKEN= os.getenv('GITHUB_TOKEN')"
   ]
  },
  {
   "cell_type": "markdown",
   "metadata": {},
   "source": [
    "### List the repositories"
   ]
  },
  {
   "cell_type": "code",
   "execution_count": 2,
   "metadata": {},
   "outputs": [
    {
     "name": "stdout",
     "output_type": "stream",
     "text": [
      "1- repo1\n",
      "2- repo2\n",
      "3- repo3\n",
      "4- repo4\n"
     ]
    }
   ],
   "source": [
    "#get the repositories using your credentials\n",
    "repos_dict=get_repos(GITHUB_URL,GITHUB_USER,GITHUB_TOKEN)"
   ]
  },
  {
   "cell_type": "markdown",
   "metadata": {},
   "source": [
    "### Delete one or more repositories given their id"
   ]
  },
  {
   "cell_type": "code",
   "execution_count": 3,
   "metadata": {},
   "outputs": [
    {
     "name": "stdin",
     "output_type": "stream",
     "text": [
      "Type the repositories id to delete (spare them with a comma):  4\n"
     ]
    },
    {
     "name": "stdout",
     "output_type": "stream",
     "text": [
      "The repository repo4 has been deleted\n"
     ]
    }
   ],
   "source": [
    "#set an input variable to choose the repositories to delete\n",
    "to_del=input(\"Type the repositories id to delete (spare them with a comma): \")    \n",
    "#split the input to create a list of repo to delete\n",
    "repo_to_del=to_del.split(',')\n",
    "#loop over the list of repo to delete\n",
    "for i in repo_to_del:\n",
    "    #set the api link for deleting repo\n",
    "    url = GITHUB_URL+\"/repos/\"+GITHUB_USER+\"/\"+repos_dict[int(i)]\n",
    "    try:\n",
    "        #delete the repositories\n",
    "        response = requests.delete(url, auth=(GITHUB_USER,GITHUB_TOKEN))\n",
    "        if response.status_code==204:\n",
    "            print(\"The repository {} has been deleted\".format(repos_dict[int(i)]))\n",
    "        else :\n",
    "            print(\"Error: Not Found\")\n",
    "\n",
    "    except requests.exceptions.RequestException as err:\n",
    "        raise SystemExit(err)\n"
   ]
  },
  {
   "cell_type": "markdown",
   "metadata": {},
   "source": [
    "### Check if the repositries has been deleted"
   ]
  },
  {
   "cell_type": "code",
   "execution_count": 4,
   "metadata": {},
   "outputs": [
    {
     "name": "stdout",
     "output_type": "stream",
     "text": [
      "1- repo1\n",
      "2- repo2\n",
      "3- repo3\n"
     ]
    },
    {
     "data": {
      "text/plain": [
       "{1: 'repo1', 2: 'repo2', 3: 'repo3'}"
      ]
     },
     "execution_count": 4,
     "metadata": {},
     "output_type": "execute_result"
    }
   ],
   "source": [
    "get_repos(GITHUB_URL,GITHUB_USER,GITHUB_TOKEN)"
   ]
  }
 ],
 "metadata": {
  "kernelspec": {
   "display_name": "Python 3",
   "language": "python",
   "name": "python3"
  },
  "language_info": {
   "codemirror_mode": {
    "name": "ipython",
    "version": 3
   },
   "file_extension": ".py",
   "mimetype": "text/x-python",
   "name": "python",
   "nbconvert_exporter": "python",
   "pygments_lexer": "ipython3",
   "version": "3.8.3"
  }
 },
 "nbformat": 4,
 "nbformat_minor": 4
}
